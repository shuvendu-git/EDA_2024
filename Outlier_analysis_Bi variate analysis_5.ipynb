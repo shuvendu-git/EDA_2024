{
 "cells": [
  {
   "cell_type": "markdown",
   "id": "6c978243-aea6-4d9a-98ba-d0a541190b59",
   "metadata": {},
   "source": [
    "# Box plot"
   ]
  },
  {
   "cell_type": "markdown",
   "id": "ffdccf49-3e8e-4579-a4f7-d07c99da732a",
   "metadata": {},
   "source": [
    "- boxlot is used to identify the out_liers \n",
    "- outlier is a observation having huge +ve value or huge -ve value\n",
    "- q1 = 25p , q2 = 50p and q3 = 75p\n",
    "- IQR = inter quartile range = q3-q1\n",
    "- q3+1.5*IQR and q1-1.5*IQR"
   ]
  },
  {
   "cell_type": "markdown",
   "id": "4d181f22-99f3-42ea-a343-0ee1ec62f5df",
   "metadata": {},
   "source": [
    "           Q1-1.5IQR   Q1   median  Q3   Q3+1.5IQR\n",
    "\n",
    "                       |-----:-----|\n",
    "       o      |--------|     :     |--------|    o  o\n",
    "                       |-----:-----|\n",
    "                       \n",
    "     flier             <----------->            fliers\n",
    "                            IQR"
   ]
  },
  {
   "cell_type": "code",
   "execution_count": 5,
   "id": "bb620c1a-4e39-4875-8dd3-8f3d4641f048",
   "metadata": {},
   "outputs": [],
   "source": [
    "import pandas as pd\n",
    "import matplotlib.pyplot as plt\n",
    "import seaborn as sns\n",
    "import numpy as np"
   ]
  },
  {
   "cell_type": "code",
   "execution_count": 6,
   "id": "3ed5c048-68ec-4d6d-bb0d-ef4bc19b1971",
   "metadata": {},
   "outputs": [],
   "source": [
    "path=r\"C:\\Users\\LENOVO\\Documents\\Naresh IT\\Datafiles\\Visadataset.csv\""
   ]
  },
  {
   "cell_type": "code",
   "execution_count": 7,
   "id": "84f98229-7e93-48ea-a7fa-9787d644e000",
   "metadata": {},
   "outputs": [
    {
     "data": {
      "text/html": [
       "<div>\n",
       "<style scoped>\n",
       "    .dataframe tbody tr th:only-of-type {\n",
       "        vertical-align: middle;\n",
       "    }\n",
       "\n",
       "    .dataframe tbody tr th {\n",
       "        vertical-align: top;\n",
       "    }\n",
       "\n",
       "    .dataframe thead th {\n",
       "        text-align: right;\n",
       "    }\n",
       "</style>\n",
       "<table border=\"1\" class=\"dataframe\">\n",
       "  <thead>\n",
       "    <tr style=\"text-align: right;\">\n",
       "      <th></th>\n",
       "      <th>case_id</th>\n",
       "      <th>continent</th>\n",
       "      <th>education_of_employee</th>\n",
       "      <th>has_job_experience</th>\n",
       "      <th>requires_job_training</th>\n",
       "      <th>no_of_employees</th>\n",
       "      <th>yr_of_estab</th>\n",
       "      <th>region_of_employment</th>\n",
       "      <th>prevailing_wage</th>\n",
       "      <th>unit_of_wage</th>\n",
       "      <th>full_time_position</th>\n",
       "      <th>case_status</th>\n",
       "    </tr>\n",
       "  </thead>\n",
       "  <tbody>\n",
       "    <tr>\n",
       "      <th>0</th>\n",
       "      <td>EZYV01</td>\n",
       "      <td>Asia</td>\n",
       "      <td>High School</td>\n",
       "      <td>N</td>\n",
       "      <td>N</td>\n",
       "      <td>14513</td>\n",
       "      <td>2007</td>\n",
       "      <td>West</td>\n",
       "      <td>592.2029</td>\n",
       "      <td>Hour</td>\n",
       "      <td>Y</td>\n",
       "      <td>Denied</td>\n",
       "    </tr>\n",
       "    <tr>\n",
       "      <th>1</th>\n",
       "      <td>EZYV02</td>\n",
       "      <td>Asia</td>\n",
       "      <td>Master's</td>\n",
       "      <td>Y</td>\n",
       "      <td>N</td>\n",
       "      <td>2412</td>\n",
       "      <td>2002</td>\n",
       "      <td>Northeast</td>\n",
       "      <td>83425.6500</td>\n",
       "      <td>Year</td>\n",
       "      <td>Y</td>\n",
       "      <td>Certified</td>\n",
       "    </tr>\n",
       "    <tr>\n",
       "      <th>2</th>\n",
       "      <td>EZYV03</td>\n",
       "      <td>Asia</td>\n",
       "      <td>Bachelor's</td>\n",
       "      <td>N</td>\n",
       "      <td>Y</td>\n",
       "      <td>44444</td>\n",
       "      <td>2008</td>\n",
       "      <td>West</td>\n",
       "      <td>122996.8600</td>\n",
       "      <td>Year</td>\n",
       "      <td>Y</td>\n",
       "      <td>Denied</td>\n",
       "    </tr>\n",
       "    <tr>\n",
       "      <th>3</th>\n",
       "      <td>EZYV04</td>\n",
       "      <td>Asia</td>\n",
       "      <td>Bachelor's</td>\n",
       "      <td>N</td>\n",
       "      <td>N</td>\n",
       "      <td>98</td>\n",
       "      <td>1897</td>\n",
       "      <td>West</td>\n",
       "      <td>83434.0300</td>\n",
       "      <td>Year</td>\n",
       "      <td>Y</td>\n",
       "      <td>Denied</td>\n",
       "    </tr>\n",
       "    <tr>\n",
       "      <th>4</th>\n",
       "      <td>EZYV05</td>\n",
       "      <td>Africa</td>\n",
       "      <td>Master's</td>\n",
       "      <td>Y</td>\n",
       "      <td>N</td>\n",
       "      <td>1082</td>\n",
       "      <td>2005</td>\n",
       "      <td>South</td>\n",
       "      <td>149907.3900</td>\n",
       "      <td>Year</td>\n",
       "      <td>Y</td>\n",
       "      <td>Certified</td>\n",
       "    </tr>\n",
       "    <tr>\n",
       "      <th>...</th>\n",
       "      <td>...</td>\n",
       "      <td>...</td>\n",
       "      <td>...</td>\n",
       "      <td>...</td>\n",
       "      <td>...</td>\n",
       "      <td>...</td>\n",
       "      <td>...</td>\n",
       "      <td>...</td>\n",
       "      <td>...</td>\n",
       "      <td>...</td>\n",
       "      <td>...</td>\n",
       "      <td>...</td>\n",
       "    </tr>\n",
       "    <tr>\n",
       "      <th>25475</th>\n",
       "      <td>EZYV25476</td>\n",
       "      <td>Asia</td>\n",
       "      <td>Bachelor's</td>\n",
       "      <td>Y</td>\n",
       "      <td>Y</td>\n",
       "      <td>2601</td>\n",
       "      <td>2008</td>\n",
       "      <td>South</td>\n",
       "      <td>77092.5700</td>\n",
       "      <td>Year</td>\n",
       "      <td>Y</td>\n",
       "      <td>Certified</td>\n",
       "    </tr>\n",
       "    <tr>\n",
       "      <th>25476</th>\n",
       "      <td>EZYV25477</td>\n",
       "      <td>Asia</td>\n",
       "      <td>High School</td>\n",
       "      <td>Y</td>\n",
       "      <td>N</td>\n",
       "      <td>3274</td>\n",
       "      <td>2006</td>\n",
       "      <td>Northeast</td>\n",
       "      <td>279174.7900</td>\n",
       "      <td>Year</td>\n",
       "      <td>Y</td>\n",
       "      <td>Certified</td>\n",
       "    </tr>\n",
       "    <tr>\n",
       "      <th>25477</th>\n",
       "      <td>EZYV25478</td>\n",
       "      <td>Asia</td>\n",
       "      <td>Master's</td>\n",
       "      <td>Y</td>\n",
       "      <td>N</td>\n",
       "      <td>1121</td>\n",
       "      <td>1910</td>\n",
       "      <td>South</td>\n",
       "      <td>146298.8500</td>\n",
       "      <td>Year</td>\n",
       "      <td>N</td>\n",
       "      <td>Certified</td>\n",
       "    </tr>\n",
       "    <tr>\n",
       "      <th>25478</th>\n",
       "      <td>EZYV25479</td>\n",
       "      <td>Asia</td>\n",
       "      <td>Master's</td>\n",
       "      <td>Y</td>\n",
       "      <td>Y</td>\n",
       "      <td>1918</td>\n",
       "      <td>1887</td>\n",
       "      <td>West</td>\n",
       "      <td>86154.7700</td>\n",
       "      <td>Year</td>\n",
       "      <td>Y</td>\n",
       "      <td>Certified</td>\n",
       "    </tr>\n",
       "    <tr>\n",
       "      <th>25479</th>\n",
       "      <td>EZYV25480</td>\n",
       "      <td>Asia</td>\n",
       "      <td>Bachelor's</td>\n",
       "      <td>Y</td>\n",
       "      <td>N</td>\n",
       "      <td>3195</td>\n",
       "      <td>1960</td>\n",
       "      <td>Midwest</td>\n",
       "      <td>70876.9100</td>\n",
       "      <td>Year</td>\n",
       "      <td>Y</td>\n",
       "      <td>Certified</td>\n",
       "    </tr>\n",
       "  </tbody>\n",
       "</table>\n",
       "<p>25480 rows × 12 columns</p>\n",
       "</div>"
      ],
      "text/plain": [
       "         case_id continent education_of_employee has_job_experience  \\\n",
       "0         EZYV01      Asia           High School                  N   \n",
       "1         EZYV02      Asia              Master's                  Y   \n",
       "2         EZYV03      Asia            Bachelor's                  N   \n",
       "3         EZYV04      Asia            Bachelor's                  N   \n",
       "4         EZYV05    Africa              Master's                  Y   \n",
       "...          ...       ...                   ...                ...   \n",
       "25475  EZYV25476      Asia            Bachelor's                  Y   \n",
       "25476  EZYV25477      Asia           High School                  Y   \n",
       "25477  EZYV25478      Asia              Master's                  Y   \n",
       "25478  EZYV25479      Asia              Master's                  Y   \n",
       "25479  EZYV25480      Asia            Bachelor's                  Y   \n",
       "\n",
       "      requires_job_training  no_of_employees  yr_of_estab  \\\n",
       "0                         N            14513         2007   \n",
       "1                         N             2412         2002   \n",
       "2                         Y            44444         2008   \n",
       "3                         N               98         1897   \n",
       "4                         N             1082         2005   \n",
       "...                     ...              ...          ...   \n",
       "25475                     Y             2601         2008   \n",
       "25476                     N             3274         2006   \n",
       "25477                     N             1121         1910   \n",
       "25478                     Y             1918         1887   \n",
       "25479                     N             3195         1960   \n",
       "\n",
       "      region_of_employment  prevailing_wage unit_of_wage full_time_position  \\\n",
       "0                     West         592.2029         Hour                  Y   \n",
       "1                Northeast       83425.6500         Year                  Y   \n",
       "2                     West      122996.8600         Year                  Y   \n",
       "3                     West       83434.0300         Year                  Y   \n",
       "4                    South      149907.3900         Year                  Y   \n",
       "...                    ...              ...          ...                ...   \n",
       "25475                South       77092.5700         Year                  Y   \n",
       "25476            Northeast      279174.7900         Year                  Y   \n",
       "25477                South      146298.8500         Year                  N   \n",
       "25478                 West       86154.7700         Year                  Y   \n",
       "25479              Midwest       70876.9100         Year                  Y   \n",
       "\n",
       "      case_status  \n",
       "0          Denied  \n",
       "1       Certified  \n",
       "2          Denied  \n",
       "3          Denied  \n",
       "4       Certified  \n",
       "...           ...  \n",
       "25475   Certified  \n",
       "25476   Certified  \n",
       "25477   Certified  \n",
       "25478   Certified  \n",
       "25479   Certified  \n",
       "\n",
       "[25480 rows x 12 columns]"
      ]
     },
     "execution_count": 7,
     "metadata": {},
     "output_type": "execute_result"
    }
   ],
   "source": [
    "visa_df=pd.read_csv(path)\n",
    "visa_df"
   ]
  },
  {
   "cell_type": "code",
   "execution_count": 4,
   "id": "4caa821b-0d47-4157-a603-c3fd3f9446a9",
   "metadata": {},
   "outputs": [],
   "source": [
    "cat_listt=visa_df.select_dtypes(include='object').columns\n",
    "num_listt=visa_df.select_dtypes(exclude='object').columns\n"
   ]
  },
  {
   "cell_type": "code",
   "execution_count": 5,
   "id": "68037d73-0626-43a0-a9bb-0e1f288e3db5",
   "metadata": {},
   "outputs": [
    {
     "data": {
      "image/png": "[encoded data removed]",
      "text/plain": [
       "<Figure size 640x480 with 1 Axes>"
      ]
     },
     "metadata": {},
     "output_type": "display_data"
    }
   ],
   "source": [
    "wage_data=visa_df['prevailing_wage']\n",
    "plt.boxplot(wage_data,vert=False)\n",
    "plt.title('boxplot')\n",
    "plt.xlabel('wage')\n",
    "plt.show()"
   ]
  },
  {
   "cell_type": "code",
   "execution_count": 6,
   "id": "d628066b-b221-4638-acbb-5166d0fb4c32",
   "metadata": {},
   "outputs": [
    {
     "data": {
      "image/png": "[encoded data removed]",
      "text/plain": [
       "<Figure size 640x480 with 1 Axes>"
      ]
     },
     "metadata": {},
     "output_type": "display_data"
    }
   ],
   "source": [
    "wage_data=visa_df['prevailing_wage']\n",
    "sns.boxplot(wage_data,orient='h')\n",
    "plt.title('boxplot')\n",
    "plt.xlabel('wage')\n",
    "plt.show()"
   ]
  },
  {
   "cell_type": "code",
   "execution_count": 7,
   "id": "f7176894-e290-4531-9113-3ce783084a85",
   "metadata": {},
   "outputs": [
    {
     "data": {
      "image/png": "[encoded data removed]",
      "text/plain": [
       "<Figure size 1400x300 with 2 Axes>"
      ]
     },
     "metadata": {},
     "output_type": "display_data"
    }
   ],
   "source": [
    "wage_data=visa_df['prevailing_wage']\n",
    "plt.figure(figsize=(14,3))\n",
    "plt.suptitle('comparision of histogram with box plot')\n",
    "plt.subplot(1,2,1).hist(wage_data,bins=20)\n",
    "#plt.hist(wage_data,bins=20)\n",
    "plt.xlabel('Histogram')\n",
    "plt.subplot(1,2,2).boxplot(wage_data,vert=False)\n",
    "\n",
    "#plt.boxplot(wage_data,vert=False)\n",
    "plt.xlabel('Box plot')\n",
    "plt.show()\n"
   ]
  },
  {
   "cell_type": "markdown",
   "id": "feec5c6e-fea6-4399-bcc5-25893ee8e087",
   "metadata": {},
   "source": [
    "**Finding the outliers**\n",
    "- we already know that outliers available less than\n",
    "- **q1-1.5*IQR** and **q3+1.5*IQR**\n",
    "- step-1: "
   ]
  },
  {
   "cell_type": "code",
   "execution_count": 8,
   "id": "d3585f12-281c-44d1-9d36-8f5c50354657",
   "metadata": {},
   "outputs": [
    {
     "data": {
      "text/plain": [
       "14       220081.73\n",
       "34       225569.73\n",
       "130      247393.01\n",
       "216      269321.68\n",
       "221      219529.62\n",
       "           ...    \n",
       "25191    280482.51\n",
       "25195    234308.77\n",
       "25468    272715.74\n",
       "25469    273772.47\n",
       "25476    279174.79\n",
       "Name: prevailing_wage, Length: 427, dtype: float64"
      ]
     },
     "execution_count": 8,
     "metadata": {},
     "output_type": "execute_result"
    }
   ],
   "source": [
    "wage_data=visa_df['prevailing_wage']\n",
    "q1=np.percentile(wage_data,25)\n",
    "q2=np.percentile(wage_data,50)\n",
    "q3=np.percentile(wage_data,75)\n",
    "\n",
    "iqr=q3-q1\n",
    "\n",
    "lb=q1-1.5*iqr\n",
    "ub=q3+1.5*iqr\n",
    "\n",
    "con1 = wage_data < lb\n",
    "con2 = wage_data > ub\n",
    "con3 = con1 | con2\n",
    "outliers_data=wage_data[con3]\n",
    "outliers_data"
   ]
  },
  {
   "cell_type": "code",
   "execution_count": 9,
   "id": "2c186fd5-6335-4eec-9f9d-73b7b69c89fd",
   "metadata": {},
   "outputs": [
    {
     "data": {
      "text/html": [
       "<div>\n",
       "<style scoped>\n",
       "    .dataframe tbody tr th:only-of-type {\n",
       "        vertical-align: middle;\n",
       "    }\n",
       "\n",
       "    .dataframe tbody tr th {\n",
       "        vertical-align: top;\n",
       "    }\n",
       "\n",
       "    .dataframe thead th {\n",
       "        text-align: right;\n",
       "    }\n",
       "</style>\n",
       "<table border=\"1\" class=\"dataframe\">\n",
       "  <thead>\n",
       "    <tr style=\"text-align: right;\">\n",
       "      <th></th>\n",
       "      <th>case_id</th>\n",
       "      <th>continent</th>\n",
       "      <th>education_of_employee</th>\n",
       "      <th>has_job_experience</th>\n",
       "      <th>requires_job_training</th>\n",
       "      <th>no_of_employees</th>\n",
       "      <th>yr_of_estab</th>\n",
       "      <th>region_of_employment</th>\n",
       "      <th>prevailing_wage</th>\n",
       "      <th>unit_of_wage</th>\n",
       "      <th>full_time_position</th>\n",
       "      <th>case_status</th>\n",
       "    </tr>\n",
       "  </thead>\n",
       "  <tbody>\n",
       "    <tr>\n",
       "      <th>14</th>\n",
       "      <td>EZYV15</td>\n",
       "      <td>Asia</td>\n",
       "      <td>Master's</td>\n",
       "      <td>Y</td>\n",
       "      <td>Y</td>\n",
       "      <td>15756</td>\n",
       "      <td>2006</td>\n",
       "      <td>South</td>\n",
       "      <td>220081.73</td>\n",
       "      <td>Year</td>\n",
       "      <td>Y</td>\n",
       "      <td>Certified</td>\n",
       "    </tr>\n",
       "    <tr>\n",
       "      <th>34</th>\n",
       "      <td>EZYV35</td>\n",
       "      <td>Asia</td>\n",
       "      <td>Master's</td>\n",
       "      <td>N</td>\n",
       "      <td>N</td>\n",
       "      <td>1809</td>\n",
       "      <td>2010</td>\n",
       "      <td>South</td>\n",
       "      <td>225569.73</td>\n",
       "      <td>Year</td>\n",
       "      <td>N</td>\n",
       "      <td>Certified</td>\n",
       "    </tr>\n",
       "    <tr>\n",
       "      <th>130</th>\n",
       "      <td>EZYV131</td>\n",
       "      <td>South America</td>\n",
       "      <td>High School</td>\n",
       "      <td>N</td>\n",
       "      <td>N</td>\n",
       "      <td>2554</td>\n",
       "      <td>2005</td>\n",
       "      <td>Midwest</td>\n",
       "      <td>247393.01</td>\n",
       "      <td>Year</td>\n",
       "      <td>Y</td>\n",
       "      <td>Certified</td>\n",
       "    </tr>\n",
       "    <tr>\n",
       "      <th>216</th>\n",
       "      <td>EZYV217</td>\n",
       "      <td>Asia</td>\n",
       "      <td>Master's</td>\n",
       "      <td>Y</td>\n",
       "      <td>N</td>\n",
       "      <td>1515</td>\n",
       "      <td>2001</td>\n",
       "      <td>Midwest</td>\n",
       "      <td>269321.68</td>\n",
       "      <td>Year</td>\n",
       "      <td>N</td>\n",
       "      <td>Certified</td>\n",
       "    </tr>\n",
       "    <tr>\n",
       "      <th>221</th>\n",
       "      <td>EZYV222</td>\n",
       "      <td>North America</td>\n",
       "      <td>Doctorate</td>\n",
       "      <td>Y</td>\n",
       "      <td>Y</td>\n",
       "      <td>2518</td>\n",
       "      <td>2010</td>\n",
       "      <td>South</td>\n",
       "      <td>219529.62</td>\n",
       "      <td>Year</td>\n",
       "      <td>Y</td>\n",
       "      <td>Certified</td>\n",
       "    </tr>\n",
       "    <tr>\n",
       "      <th>...</th>\n",
       "      <td>...</td>\n",
       "      <td>...</td>\n",
       "      <td>...</td>\n",
       "      <td>...</td>\n",
       "      <td>...</td>\n",
       "      <td>...</td>\n",
       "      <td>...</td>\n",
       "      <td>...</td>\n",
       "      <td>...</td>\n",
       "      <td>...</td>\n",
       "      <td>...</td>\n",
       "      <td>...</td>\n",
       "    </tr>\n",
       "    <tr>\n",
       "      <th>25191</th>\n",
       "      <td>EZYV25192</td>\n",
       "      <td>Asia</td>\n",
       "      <td>Master's</td>\n",
       "      <td>N</td>\n",
       "      <td>N</td>\n",
       "      <td>4983</td>\n",
       "      <td>2005</td>\n",
       "      <td>Midwest</td>\n",
       "      <td>280482.51</td>\n",
       "      <td>Year</td>\n",
       "      <td>Y</td>\n",
       "      <td>Denied</td>\n",
       "    </tr>\n",
       "    <tr>\n",
       "      <th>25195</th>\n",
       "      <td>EZYV25196</td>\n",
       "      <td>North America</td>\n",
       "      <td>Master's</td>\n",
       "      <td>Y</td>\n",
       "      <td>N</td>\n",
       "      <td>47</td>\n",
       "      <td>2001</td>\n",
       "      <td>South</td>\n",
       "      <td>234308.77</td>\n",
       "      <td>Year</td>\n",
       "      <td>N</td>\n",
       "      <td>Certified</td>\n",
       "    </tr>\n",
       "    <tr>\n",
       "      <th>25468</th>\n",
       "      <td>EZYV25469</td>\n",
       "      <td>Asia</td>\n",
       "      <td>Bachelor's</td>\n",
       "      <td>N</td>\n",
       "      <td>N</td>\n",
       "      <td>373</td>\n",
       "      <td>2005</td>\n",
       "      <td>Midwest</td>\n",
       "      <td>272715.74</td>\n",
       "      <td>Year</td>\n",
       "      <td>N</td>\n",
       "      <td>Certified</td>\n",
       "    </tr>\n",
       "    <tr>\n",
       "      <th>25469</th>\n",
       "      <td>EZYV25470</td>\n",
       "      <td>North America</td>\n",
       "      <td>Master's</td>\n",
       "      <td>Y</td>\n",
       "      <td>N</td>\n",
       "      <td>2261</td>\n",
       "      <td>1997</td>\n",
       "      <td>Northeast</td>\n",
       "      <td>273772.47</td>\n",
       "      <td>Year</td>\n",
       "      <td>N</td>\n",
       "      <td>Certified</td>\n",
       "    </tr>\n",
       "    <tr>\n",
       "      <th>25476</th>\n",
       "      <td>EZYV25477</td>\n",
       "      <td>Asia</td>\n",
       "      <td>High School</td>\n",
       "      <td>Y</td>\n",
       "      <td>N</td>\n",
       "      <td>3274</td>\n",
       "      <td>2006</td>\n",
       "      <td>Northeast</td>\n",
       "      <td>279174.79</td>\n",
       "      <td>Year</td>\n",
       "      <td>Y</td>\n",
       "      <td>Certified</td>\n",
       "    </tr>\n",
       "  </tbody>\n",
       "</table>\n",
       "<p>427 rows × 12 columns</p>\n",
       "</div>"
      ],
      "text/plain": [
       "         case_id      continent education_of_employee has_job_experience  \\\n",
       "14        EZYV15           Asia              Master's                  Y   \n",
       "34        EZYV35           Asia              Master's                  N   \n",
       "130      EZYV131  South America           High School                  N   \n",
       "216      EZYV217           Asia              Master's                  Y   \n",
       "221      EZYV222  North America             Doctorate                  Y   \n",
       "...          ...            ...                   ...                ...   \n",
       "25191  EZYV25192           Asia              Master's                  N   \n",
       "25195  EZYV25196  North America              Master's                  Y   \n",
       "25468  EZYV25469           Asia            Bachelor's                  N   \n",
       "25469  EZYV25470  North America              Master's                  Y   \n",
       "25476  EZYV25477           Asia           High School                  Y   \n",
       "\n",
       "      requires_job_training  no_of_employees  yr_of_estab  \\\n",
       "14                        Y            15756         2006   \n",
       "34                        N             1809         2010   \n",
       "130                       N             2554         2005   \n",
       "216                       N             1515         2001   \n",
       "221                       Y             2518         2010   \n",
       "...                     ...              ...          ...   \n",
       "25191                     N             4983         2005   \n",
       "25195                     N               47         2001   \n",
       "25468                     N              373         2005   \n",
       "25469                     N             2261         1997   \n",
       "25476                     N             3274         2006   \n",
       "\n",
       "      region_of_employment  prevailing_wage unit_of_wage full_time_position  \\\n",
       "14                   South        220081.73         Year                  Y   \n",
       "34                   South        225569.73         Year                  N   \n",
       "130                Midwest        247393.01         Year                  Y   \n",
       "216                Midwest        269321.68         Year                  N   \n",
       "221                  South        219529.62         Year                  Y   \n",
       "...                    ...              ...          ...                ...   \n",
       "25191              Midwest        280482.51         Year                  Y   \n",
       "25195                South        234308.77         Year                  N   \n",
       "25468              Midwest        272715.74         Year                  N   \n",
       "25469            Northeast        273772.47         Year                  N   \n",
       "25476            Northeast        279174.79         Year                  Y   \n",
       "\n",
       "      case_status  \n",
       "14      Certified  \n",
       "34      Certified  \n",
       "130     Certified  \n",
       "216     Certified  \n",
       "221     Certified  \n",
       "...           ...  \n",
       "25191      Denied  \n",
       "25195   Certified  \n",
       "25468   Certified  \n",
       "25469   Certified  \n",
       "25476   Certified  \n",
       "\n",
       "[427 rows x 12 columns]"
      ]
     },
     "execution_count": 9,
     "metadata": {},
     "output_type": "execute_result"
    }
   ],
   "source": [
    "outliers_df=visa_df[con3]\n",
    "outliers_df"
   ]
  },
  {
   "cell_type": "markdown",
   "id": "d597c6b6-bec4-4b37-9d22-505054b8e0b2",
   "metadata": {},
   "source": [
    "- we have two dataframe\r\n",
    "\r\n",
    "- Visa_df: Total data 25480\r\n",
    "\r\n",
    "- non_outliers_df= After removing outliers 25053\r\n",
    "\r\n",
    "- first plot nonoutliers data prewaling wage hsitogram and boxplot"
   ]
  },
  {
   "cell_type": "code",
   "execution_count": 10,
   "id": "9537ce04-37dd-480f-80cb-9999da533dd5",
   "metadata": {},
   "outputs": [
    {
     "data": {
      "text/html": [
       "<div>\n",
       "<style scoped>\n",
       "    .dataframe tbody tr th:only-of-type {\n",
       "        vertical-align: middle;\n",
       "    }\n",
       "\n",
       "    .dataframe tbody tr th {\n",
       "        vertical-align: top;\n",
       "    }\n",
       "\n",
       "    .dataframe thead th {\n",
       "        text-align: right;\n",
       "    }\n",
       "</style>\n",
       "<table border=\"1\" class=\"dataframe\">\n",
       "  <thead>\n",
       "    <tr style=\"text-align: right;\">\n",
       "      <th></th>\n",
       "      <th>case_id</th>\n",
       "      <th>continent</th>\n",
       "      <th>education_of_employee</th>\n",
       "      <th>has_job_experience</th>\n",
       "      <th>requires_job_training</th>\n",
       "      <th>no_of_employees</th>\n",
       "      <th>yr_of_estab</th>\n",
       "      <th>region_of_employment</th>\n",
       "      <th>prevailing_wage</th>\n",
       "      <th>unit_of_wage</th>\n",
       "      <th>full_time_position</th>\n",
       "      <th>case_status</th>\n",
       "    </tr>\n",
       "  </thead>\n",
       "  <tbody>\n",
       "    <tr>\n",
       "      <th>0</th>\n",
       "      <td>EZYV01</td>\n",
       "      <td>Asia</td>\n",
       "      <td>High School</td>\n",
       "      <td>N</td>\n",
       "      <td>N</td>\n",
       "      <td>14513</td>\n",
       "      <td>2007</td>\n",
       "      <td>West</td>\n",
       "      <td>592.2029</td>\n",
       "      <td>Hour</td>\n",
       "      <td>Y</td>\n",
       "      <td>Denied</td>\n",
       "    </tr>\n",
       "    <tr>\n",
       "      <th>1</th>\n",
       "      <td>EZYV02</td>\n",
       "      <td>Asia</td>\n",
       "      <td>Master's</td>\n",
       "      <td>Y</td>\n",
       "      <td>N</td>\n",
       "      <td>2412</td>\n",
       "      <td>2002</td>\n",
       "      <td>Northeast</td>\n",
       "      <td>83425.6500</td>\n",
       "      <td>Year</td>\n",
       "      <td>Y</td>\n",
       "      <td>Certified</td>\n",
       "    </tr>\n",
       "    <tr>\n",
       "      <th>2</th>\n",
       "      <td>EZYV03</td>\n",
       "      <td>Asia</td>\n",
       "      <td>Bachelor's</td>\n",
       "      <td>N</td>\n",
       "      <td>Y</td>\n",
       "      <td>44444</td>\n",
       "      <td>2008</td>\n",
       "      <td>West</td>\n",
       "      <td>122996.8600</td>\n",
       "      <td>Year</td>\n",
       "      <td>Y</td>\n",
       "      <td>Denied</td>\n",
       "    </tr>\n",
       "    <tr>\n",
       "      <th>3</th>\n",
       "      <td>EZYV04</td>\n",
       "      <td>Asia</td>\n",
       "      <td>Bachelor's</td>\n",
       "      <td>N</td>\n",
       "      <td>N</td>\n",
       "      <td>98</td>\n",
       "      <td>1897</td>\n",
       "      <td>West</td>\n",
       "      <td>83434.0300</td>\n",
       "      <td>Year</td>\n",
       "      <td>Y</td>\n",
       "      <td>Denied</td>\n",
       "    </tr>\n",
       "    <tr>\n",
       "      <th>4</th>\n",
       "      <td>EZYV05</td>\n",
       "      <td>Africa</td>\n",
       "      <td>Master's</td>\n",
       "      <td>Y</td>\n",
       "      <td>N</td>\n",
       "      <td>1082</td>\n",
       "      <td>2005</td>\n",
       "      <td>South</td>\n",
       "      <td>149907.3900</td>\n",
       "      <td>Year</td>\n",
       "      <td>Y</td>\n",
       "      <td>Certified</td>\n",
       "    </tr>\n",
       "    <tr>\n",
       "      <th>...</th>\n",
       "      <td>...</td>\n",
       "      <td>...</td>\n",
       "      <td>...</td>\n",
       "      <td>...</td>\n",
       "      <td>...</td>\n",
       "      <td>...</td>\n",
       "      <td>...</td>\n",
       "      <td>...</td>\n",
       "      <td>...</td>\n",
       "      <td>...</td>\n",
       "      <td>...</td>\n",
       "      <td>...</td>\n",
       "    </tr>\n",
       "    <tr>\n",
       "      <th>25474</th>\n",
       "      <td>EZYV25475</td>\n",
       "      <td>Africa</td>\n",
       "      <td>Doctorate</td>\n",
       "      <td>N</td>\n",
       "      <td>N</td>\n",
       "      <td>2594</td>\n",
       "      <td>1979</td>\n",
       "      <td>Northeast</td>\n",
       "      <td>51104.7800</td>\n",
       "      <td>Year</td>\n",
       "      <td>Y</td>\n",
       "      <td>Certified</td>\n",
       "    </tr>\n",
       "    <tr>\n",
       "      <th>25475</th>\n",
       "      <td>EZYV25476</td>\n",
       "      <td>Asia</td>\n",
       "      <td>Bachelor's</td>\n",
       "      <td>Y</td>\n",
       "      <td>Y</td>\n",
       "      <td>2601</td>\n",
       "      <td>2008</td>\n",
       "      <td>South</td>\n",
       "      <td>77092.5700</td>\n",
       "      <td>Year</td>\n",
       "      <td>Y</td>\n",
       "      <td>Certified</td>\n",
       "    </tr>\n",
       "    <tr>\n",
       "      <th>25477</th>\n",
       "      <td>EZYV25478</td>\n",
       "      <td>Asia</td>\n",
       "      <td>Master's</td>\n",
       "      <td>Y</td>\n",
       "      <td>N</td>\n",
       "      <td>1121</td>\n",
       "      <td>1910</td>\n",
       "      <td>South</td>\n",
       "      <td>146298.8500</td>\n",
       "      <td>Year</td>\n",
       "      <td>N</td>\n",
       "      <td>Certified</td>\n",
       "    </tr>\n",
       "    <tr>\n",
       "      <th>25478</th>\n",
       "      <td>EZYV25479</td>\n",
       "      <td>Asia</td>\n",
       "      <td>Master's</td>\n",
       "      <td>Y</td>\n",
       "      <td>Y</td>\n",
       "      <td>1918</td>\n",
       "      <td>1887</td>\n",
       "      <td>West</td>\n",
       "      <td>86154.7700</td>\n",
       "      <td>Year</td>\n",
       "      <td>Y</td>\n",
       "      <td>Certified</td>\n",
       "    </tr>\n",
       "    <tr>\n",
       "      <th>25479</th>\n",
       "      <td>EZYV25480</td>\n",
       "      <td>Asia</td>\n",
       "      <td>Bachelor's</td>\n",
       "      <td>Y</td>\n",
       "      <td>N</td>\n",
       "      <td>3195</td>\n",
       "      <td>1960</td>\n",
       "      <td>Midwest</td>\n",
       "      <td>70876.9100</td>\n",
       "      <td>Year</td>\n",
       "      <td>Y</td>\n",
       "      <td>Certified</td>\n",
       "    </tr>\n",
       "  </tbody>\n",
       "</table>\n",
       "<p>25053 rows × 12 columns</p>\n",
       "</div>"
      ],
      "text/plain": [
       "         case_id continent education_of_employee has_job_experience  \\\n",
       "0         EZYV01      Asia           High School                  N   \n",
       "1         EZYV02      Asia              Master's                  Y   \n",
       "2         EZYV03      Asia            Bachelor's                  N   \n",
       "3         EZYV04      Asia            Bachelor's                  N   \n",
       "4         EZYV05    Africa              Master's                  Y   \n",
       "...          ...       ...                   ...                ...   \n",
       "25474  EZYV25475    Africa             Doctorate                  N   \n",
       "25475  EZYV25476      Asia            Bachelor's                  Y   \n",
       "25477  EZYV25478      Asia              Master's                  Y   \n",
       "25478  EZYV25479      Asia              Master's                  Y   \n",
       "25479  EZYV25480      Asia            Bachelor's                  Y   \n",
       "\n",
       "      requires_job_training  no_of_employees  yr_of_estab  \\\n",
       "0                         N            14513         2007   \n",
       "1                         N             2412         2002   \n",
       "2                         Y            44444         2008   \n",
       "3                         N               98         1897   \n",
       "4                         N             1082         2005   \n",
       "...                     ...              ...          ...   \n",
       "25474                     N             2594         1979   \n",
       "25475                     Y             2601         2008   \n",
       "25477                     N             1121         1910   \n",
       "25478                     Y             1918         1887   \n",
       "25479                     N             3195         1960   \n",
       "\n",
       "      region_of_employment  prevailing_wage unit_of_wage full_time_position  \\\n",
       "0                     West         592.2029         Hour                  Y   \n",
       "1                Northeast       83425.6500         Year                  Y   \n",
       "2                     West      122996.8600         Year                  Y   \n",
       "3                     West       83434.0300         Year                  Y   \n",
       "4                    South      149907.3900         Year                  Y   \n",
       "...                    ...              ...          ...                ...   \n",
       "25474            Northeast       51104.7800         Year                  Y   \n",
       "25475                South       77092.5700         Year                  Y   \n",
       "25477                South      146298.8500         Year                  N   \n",
       "25478                 West       86154.7700         Year                  Y   \n",
       "25479              Midwest       70876.9100         Year                  Y   \n",
       "\n",
       "      case_status  \n",
       "0          Denied  \n",
       "1       Certified  \n",
       "2          Denied  \n",
       "3          Denied  \n",
       "4       Certified  \n",
       "...           ...  \n",
       "25474   Certified  \n",
       "25475   Certified  \n",
       "25477   Certified  \n",
       "25478   Certified  \n",
       "25479   Certified  \n",
       "\n",
       "[25053 rows x 12 columns]"
      ]
     },
     "execution_count": 10,
     "metadata": {},
     "output_type": "execute_result"
    }
   ],
   "source": [
    "wage_data=visa_df['prevailing_wage']\n",
    "q1=np.percentile(wage_data,25)\n",
    "q2=np.percentile(wage_data,50)\n",
    "q3=np.percentile(wage_data,75)\n",
    "\n",
    "iqr=q3-q1\n",
    "\n",
    "lb=q1-1.5*iqr\n",
    "ub=q3+1.5*iqr\n",
    "\n",
    "con1 = wage_data > lb\n",
    "con2 = wage_data < ub\n",
    "con3 = con1 & con2\n",
    "non_outlier_df=visa_df[con3]\n",
    "non_outlier_df\n"
   ]
  },
  {
   "cell_type": "code",
   "execution_count": 11,
   "id": "42acf576-4d37-4685-bcde-a022ea43aab4",
   "metadata": {},
   "outputs": [
    {
     "data": {
      "image/png": "[encoded data removed]",
      "text/plain": [
       "<Figure size 1400x300 with 2 Axes>"
      ]
     },
     "metadata": {},
     "output_type": "display_data"
    }
   ],
   "source": [
    "wage_data_non_outliers=non_outlier_df['prevailing_wage']\n",
    "plt.figure(figsize=(14,3))\n",
    "plt.suptitle('Comparision of Histogram with Boxplot')\n",
    "plt.subplot(1,2,1).hist(wage_data_non_outliers,bins=20)\n",
    "plt.xlabel('Histogram')\n",
    "plt.subplot(1,2,2).boxplot(wage_data_non_outliers,vert=False)\n",
    "plt.xlabel('boxplot')\n",
    "plt.show()"
   ]
  },
  {
   "cell_type": "code",
   "execution_count": 12,
   "id": "87eddfa3-62b6-4993-9f3d-c1fa14293ac7",
   "metadata": {},
   "outputs": [
    {
     "data": {
      "image/png": "[encoded data removed]",
      "text/plain": [
       "<Figure size 1400x800 with 4 Axes>"
      ]
     },
     "metadata": {},
     "output_type": "display_data"
    }
   ],
   "source": [
    "################### data #######################################\n",
    "wage_data_non_outliers=non_outlier_df['prevailing_wage']\n",
    "wage_data=visa_df['prevailing_wage']\n",
    "################# Non outliers###################################### \n",
    "plt.figure(figsize=(14,8))\n",
    "plt.suptitle('Comparision of Histogram with Boxplot')\n",
    "plt.subplot(2,2,1).hist(wage_data_non_outliers,bins=20)\n",
    "plt.xlabel('Histogram')\n",
    "plt.subplot(2,2,2).boxplot(wage_data_non_outliers,vert=False)\n",
    "plt.xlabel('boxplot')\n",
    "###################### Entire data ################################\n",
    "plt.subplot(2,2,3).hist(wage_data,bins=20)\n",
    "plt.xlabel('Histogram')\n",
    "plt.subplot(2,2,4).boxplot(wage_data,vert=False)\n",
    "plt.xlabel('boxplot')\n",
    "plt.show()"
   ]
  },
  {
   "cell_type": "code",
   "execution_count": 13,
   "id": "9e9e858d-8dde-4e90-9a4b-dfb46bb8d067",
   "metadata": {},
   "outputs": [
    {
     "data": {
      "image/png": "[encoded data removed]",
      "text/plain": [
       "<Figure size 1400x800 with 1 Axes>"
      ]
     },
     "metadata": {},
     "output_type": "display_data"
    }
   ],
   "source": [
    "wage_data_non_outlier=non_outlier_df['prevailing_wage']\n",
    "wage_data=visa_df['prevailing_wage']\n",
    "plt.figure(figsize=(14,8))\n",
    "plt.hist(wage_data)\n",
    "plt.hist(wage_data_non_outlier)\n",
    "plt.show()"
   ]
  },
  {
   "cell_type": "markdown",
   "id": "102c3600-76ca-4766-9b41-cfbe9c3db78d",
   "metadata": {},
   "source": [
    "# how to deal with outliers\n",
    "**How to deal outliers**\r\n",
    "\r\n",
    "- 1. We can drop the outliers\r\n",
    " \r\n",
    "     - Droping outliers is an easy task, but not recomended\r\n",
    "    \r\n",
    "     - If you drop the outliers we are droping the rows\r\n",
    "    \r\n",
    "     - which means we are droping the other column values also\r\n",
    "    \r\n",
    "     - May be some important information we might loose from other column values\r\n",
    "    \r\n",
    "     - But in industry if outliser percentage less than 2% of the total data, we can drop\r\n",
    "    \r\n",
    "     - The number of outliers in pwage is 427\r\n",
    "    \r\n",
    "     - The number of total observations are 25480\r\n",
    "    \r\n",
    "     - The percentage is 1.67 which is less than 2%\r\n",
    "\r\n",
    "- 2. Fill with Median value\r\n",
    " \r\n",
    "     - We already know that outliers does not affect by median\r\n",
    "    \r\n",
    "     - so it is the best practice to fill the outliers with median\r\n",
    "    \r\n",
    "- 3. Capping or Flooring\r\n",
    " \r\n",
    "     - Instead of fill with median\r\n",
    "    \r\n",
    "     - We can fill with certian values\r\n",
    "    \r\n",
    "     - the outliers which are less than LB fill with LB value\r\n",
    "    \r\n",
    "     - the outliers which are greater than UB fill with UB value\r\n",
    "    \r\n",
    "- **Isolation Forest**\r\n",
    "\r\n",
    "  - Is ML model used to find the Outliers and anamolies \r\n"
   ]
  },
  {
   "cell_type": "markdown",
   "id": "10cd4314-c713-4cde-a1c6-6da2ae81cbf0",
   "metadata": {},
   "source": [
    "**fill with median value**"
   ]
  },
  {
   "cell_type": "code",
   "execution_count": 14,
   "id": "8a87b4ab-ae7d-4995-85df-c133c2920c84",
   "metadata": {},
   "outputs": [
    {
     "name": "stdout",
     "output_type": "stream",
     "text": [
      "0           592.2029\n",
      "1         83425.6500\n",
      "2        122996.8600\n",
      "3         83434.0300\n",
      "4        149907.3900\n",
      "            ...     \n",
      "25475     77092.5700\n",
      "25476    279174.7900\n",
      "25477    146298.8500\n",
      "25478     86154.7700\n",
      "25479     70876.9100\n",
      "Name: prevailing_wage, Length: 25480, dtype: float64\n"
     ]
    }
   ],
   "source": [
    "import numpy as np\n",
    "import pandas as pd\n",
    "\n",
    "\n",
    "wage_data = visa_df['prevailing_wage']\n",
    "\n",
    "q1 = np.percentile(wage_data, 25)\n",
    "q2 = np.percentile(wage_data, 50)  \n",
    "q3 = np.percentile(wage_data, 75)\n",
    "\n",
    "iqr = q3 - q1\n",
    "\n",
    "lb = q1 - 1.5 * iqr\n",
    "ub = q3 + 1.5 * iqr\n",
    "\n",
    "outliers = (wage_data < lb) | (wage_data > ub)\n",
    "\n",
    "#wage_data[outliers] = q2\n",
    "\n",
    "visa_df['prevailing_wage'] = wage_data\n",
    "\n",
    "print(visa_df['prevailing_wage'])"
   ]
  },
  {
   "cell_type": "markdown",
   "id": "8f4b878e-3b92-46e3-828c-e3ee10e09bf4",
   "metadata": {},
   "source": [
    "**np.where**"
   ]
  },
  {
   "cell_type": "markdown",
   "id": "88600bde-5723-4d60-b312-acfff6704e76",
   "metadata": {},
   "source": [
    "- in numpy we have method called where\n",
    "- it takes 3 argument\n",
    "- 1.condition\n",
    "- 2.valueif condition is true\n",
    "- 3.value if condition is false\n",
    "- it is applicable for only binary means if and else "
   ]
  },
  {
   "cell_type": "code",
   "execution_count": 15,
   "id": "0430142b-3f42-4d0a-b419-e79521d40698",
   "metadata": {},
   "outputs": [],
   "source": [
    "# list1=[]\n",
    "# for value in wage_data:\n",
    "#     if value < lb or value > ub:\n",
    "#         median=wage_data.median()\n",
    "#         list1.append(median)\n",
    "#     else:\n",
    "#         list1.append(value)"
   ]
  },
  {
   "cell_type": "code",
   "execution_count": 16,
   "id": "7008daa3-db39-4af3-81d3-924eb9a688fe",
   "metadata": {},
   "outputs": [
    {
     "data": {
      "text/html": [
       "<div>\n",
       "<style scoped>\n",
       "    .dataframe tbody tr th:only-of-type {\n",
       "        vertical-align: middle;\n",
       "    }\n",
       "\n",
       "    .dataframe tbody tr th {\n",
       "        vertical-align: top;\n",
       "    }\n",
       "\n",
       "    .dataframe thead th {\n",
       "        text-align: right;\n",
       "    }\n",
       "</style>\n",
       "<table border=\"1\" class=\"dataframe\">\n",
       "  <thead>\n",
       "    <tr style=\"text-align: right;\">\n",
       "      <th></th>\n",
       "      <th>sub</th>\n",
       "      <th>mark</th>\n",
       "    </tr>\n",
       "  </thead>\n",
       "  <tbody>\n",
       "    <tr>\n",
       "      <th>0</th>\n",
       "      <td>ds</td>\n",
       "      <td>100</td>\n",
       "    </tr>\n",
       "    <tr>\n",
       "      <th>1</th>\n",
       "      <td>ml</td>\n",
       "      <td>200</td>\n",
       "    </tr>\n",
       "    <tr>\n",
       "      <th>2</th>\n",
       "      <td>dl</td>\n",
       "      <td>300</td>\n",
       "    </tr>\n",
       "  </tbody>\n",
       "</table>\n",
       "</div>"
      ],
      "text/plain": [
       "  sub  mark\n",
       "0  ds   100\n",
       "1  ml   200\n",
       "2  dl   300"
      ]
     },
     "execution_count": 16,
     "metadata": {},
     "output_type": "execute_result"
    }
   ],
   "source": [
    "dict1={'sub': ['ds','ml','dl'] ,\n",
    "       'mark':[100,200,300]}\n",
    "df = pd.DataFrame(dict1)\n",
    "df"
   ]
  },
  {
   "cell_type": "code",
   "execution_count": 17,
   "id": "c93a6fd4-7784-4e56-9282-07fbf23613c3",
   "metadata": {},
   "outputs": [
    {
     "data": {
      "text/html": [
       "<div>\n",
       "<style scoped>\n",
       "    .dataframe tbody tr th:only-of-type {\n",
       "        vertical-align: middle;\n",
       "    }\n",
       "\n",
       "    .dataframe tbody tr th {\n",
       "        vertical-align: top;\n",
       "    }\n",
       "\n",
       "    .dataframe thead th {\n",
       "        text-align: right;\n",
       "    }\n",
       "</style>\n",
       "<table border=\"1\" class=\"dataframe\">\n",
       "  <thead>\n",
       "    <tr style=\"text-align: right;\">\n",
       "      <th></th>\n",
       "      <th>Sub</th>\n",
       "      <th>marks</th>\n",
       "    </tr>\n",
       "  </thead>\n",
       "  <tbody>\n",
       "    <tr>\n",
       "      <th>0</th>\n",
       "      <td>DS</td>\n",
       "      <td>100</td>\n",
       "    </tr>\n",
       "    <tr>\n",
       "      <th>1</th>\n",
       "      <td>DE</td>\n",
       "      <td>1</td>\n",
       "    </tr>\n",
       "    <tr>\n",
       "      <th>2</th>\n",
       "      <td>CS</td>\n",
       "      <td>1</td>\n",
       "    </tr>\n",
       "  </tbody>\n",
       "</table>\n",
       "</div>"
      ],
      "text/plain": [
       "  Sub  marks\n",
       "0  DS    100\n",
       "1  DE      1\n",
       "2  CS      1"
      ]
     },
     "execution_count": 17,
     "metadata": {},
     "output_type": "execute_result"
    }
   ],
   "source": [
    "# Qn: I want to replace marks with 1 , which are greater than 100\n",
    "dict1={'Sub':['DS','DE','CS'],\n",
    "   'marks':[100,200,300]}\n",
    "df=pd.DataFrame(dict1)\n",
    "df\n",
    "\n",
    "l=[]\n",
    "for i in df['marks']:\n",
    "    if i>100:\n",
    "        l.append(1)\n",
    "    else:\n",
    "        l.append(i)\n",
    "df['marks']=l\n",
    "df"
   ]
  },
  {
   "cell_type": "code",
   "execution_count": 18,
   "id": "14e46225-7f8f-4c98-8b33-01e2600bcd93",
   "metadata": {},
   "outputs": [
    {
     "data": {
      "text/html": [
       "<div>\n",
       "<style scoped>\n",
       "    .dataframe tbody tr th:only-of-type {\n",
       "        vertical-align: middle;\n",
       "    }\n",
       "\n",
       "    .dataframe tbody tr th {\n",
       "        vertical-align: top;\n",
       "    }\n",
       "\n",
       "    .dataframe thead th {\n",
       "        text-align: right;\n",
       "    }\n",
       "</style>\n",
       "<table border=\"1\" class=\"dataframe\">\n",
       "  <thead>\n",
       "    <tr style=\"text-align: right;\">\n",
       "      <th></th>\n",
       "      <th>Sub</th>\n",
       "      <th>marks</th>\n",
       "    </tr>\n",
       "  </thead>\n",
       "  <tbody>\n",
       "    <tr>\n",
       "      <th>0</th>\n",
       "      <td>DS</td>\n",
       "      <td>100</td>\n",
       "    </tr>\n",
       "    <tr>\n",
       "      <th>1</th>\n",
       "      <td>DE</td>\n",
       "      <td>200</td>\n",
       "    </tr>\n",
       "    <tr>\n",
       "      <th>2</th>\n",
       "      <td>CS</td>\n",
       "      <td>300</td>\n",
       "    </tr>\n",
       "  </tbody>\n",
       "</table>\n",
       "</div>"
      ],
      "text/plain": [
       "  Sub  marks\n",
       "0  DS    100\n",
       "1  DE    200\n",
       "2  CS    300"
      ]
     },
     "execution_count": 18,
     "metadata": {},
     "output_type": "execute_result"
    }
   ],
   "source": [
    "dict1={'Sub':['DS','DE','CS'],\n",
    "   'marks':[100,200,300]}\n",
    "df=pd.DataFrame(dict1)\n",
    "df"
   ]
  },
  {
   "cell_type": "code",
   "execution_count": 19,
   "id": "5f554f94-17d6-466b-87c0-7e1edc470346",
   "metadata": {},
   "outputs": [
    {
     "data": {
      "text/html": [
       "<div>\n",
       "<style scoped>\n",
       "    .dataframe tbody tr th:only-of-type {\n",
       "        vertical-align: middle;\n",
       "    }\n",
       "\n",
       "    .dataframe tbody tr th {\n",
       "        vertical-align: top;\n",
       "    }\n",
       "\n",
       "    .dataframe thead th {\n",
       "        text-align: right;\n",
       "    }\n",
       "</style>\n",
       "<table border=\"1\" class=\"dataframe\">\n",
       "  <thead>\n",
       "    <tr style=\"text-align: right;\">\n",
       "      <th></th>\n",
       "      <th>Sub</th>\n",
       "      <th>marks</th>\n",
       "    </tr>\n",
       "  </thead>\n",
       "  <tbody>\n",
       "    <tr>\n",
       "      <th>0</th>\n",
       "      <td>DS</td>\n",
       "      <td>100</td>\n",
       "    </tr>\n",
       "    <tr>\n",
       "      <th>1</th>\n",
       "      <td>DE</td>\n",
       "      <td>1</td>\n",
       "    </tr>\n",
       "    <tr>\n",
       "      <th>2</th>\n",
       "      <td>CS</td>\n",
       "      <td>1</td>\n",
       "    </tr>\n",
       "  </tbody>\n",
       "</table>\n",
       "</div>"
      ],
      "text/plain": [
       "  Sub  marks\n",
       "0  DS    100\n",
       "1  DE      1\n",
       "2  CS      1"
      ]
     },
     "execution_count": 19,
     "metadata": {},
     "output_type": "execute_result"
    }
   ],
   "source": [
    "# np.where(<condition>,<True>,<False>)\n",
    "con=df['marks']>100\n",
    "l=np.where(con,1,df['marks'])\n",
    "df['marks']=l\n",
    "df"
   ]
  },
  {
   "cell_type": "code",
   "execution_count": 20,
   "id": "4d0ea450-bb60-4489-a336-4a8b746b987e",
   "metadata": {},
   "outputs": [
    {
     "data": {
      "text/plain": [
       "array([   592.2029,  83425.65  , 122996.86  , ..., 146298.85  ,\n",
       "        86154.77  ,  70876.91  ])"
      ]
     },
     "execution_count": 20,
     "metadata": {},
     "output_type": "execute_result"
    }
   ],
   "source": [
    "#Implement for the outliers\n",
    "wage_data=visa_df['prevailing_wage']\n",
    "con1= wage_data<lb\n",
    "con2= wage_data>ub\n",
    "con= con1 | con2\n",
    "wage_med=wage_data.median()\n",
    "l=np.where(con,wage_med,wage_data)\n",
    "l"
   ]
  },
  {
   "cell_type": "code",
   "execution_count": 21,
   "id": "729d43e2-14dc-4eea-9ab3-9a716d342551",
   "metadata": {},
   "outputs": [],
   "source": [
    "visa_df['prevailing_wage_update']=l"
   ]
  },
  {
   "cell_type": "code",
   "execution_count": 22,
   "id": "d2b62a32-7fd8-443c-bfe1-be15e2c0ed11",
   "metadata": {},
   "outputs": [
    {
     "data": {
      "text/plain": [
       "(array([4580., 3368., 3890., 4369., 3507., 2860., 1643.,  706.,  295.,\n",
       "         262.]),\n",
       " array([2.13670000e+00, 2.18113840e+04, 4.36206314e+04, 6.54298787e+04,\n",
       "        8.72391260e+04, 1.09048373e+05, 1.30857621e+05, 1.52666868e+05,\n",
       "        1.74476115e+05, 1.96285363e+05, 2.18094610e+05]),\n",
       " <BarContainer object of 10 artists>)"
      ]
     },
     "execution_count": 22,
     "metadata": {},
     "output_type": "execute_result"
    },
    {
     "data": {
      "image/png": "[encoded data removed]",
      "text/plain": [
       "<Figure size 640x480 with 2 Axes>"
      ]
     },
     "metadata": {},
     "output_type": "display_data"
    }
   ],
   "source": [
    "plt.subplot(1,2,1).boxplot(visa_df['prevailing_wage_update'])\n",
    "plt.subplot(1,2,2).hist(visa_df['prevailing_wage_update'])"
   ]
  },
  {
   "cell_type": "markdown",
   "id": "f91001be-407b-43b0-964d-b4fc47a310b7",
   "metadata": {},
   "source": [
    "**Bi variate analysis**\r\n",
    "\r\n",
    "- We already seen Uni variate analysis\r\n",
    "\r\n",
    "- We performed the categorical columns analysis\r\n",
    "\r\n",
    "    - Frequency table (Value counts)\r\n",
    "\r\n",
    "    - Bar chart\r\n",
    "\r\n",
    "    - Relative frequency table (Value counts Normalized form)\r\n",
    "\r\n",
    "    - Pie chart\r\n",
    "\r\n",
    "- We performed the numerical column analysis\r\n",
    "\r\n",
    "    - Histogram\r\n",
    "\r\n",
    "    - Distribution plots\r\n",
    "\r\n",
    "    - Box plot\r\n",
    "\r\n",
    "    - Outlier analysis\r\n",
    "\r\n",
    "    - Filling the outliers\r\n",
    "\r\n",
    "- Now we will do Categorical-Categorical Analaysis\r\n",
    "\r\n",
    "- Numerical - Numerical analayis\r\n",
    "\r\n",
    "- Categorical - Numerical analysis"
   ]
  },
  {
   "cell_type": "markdown",
   "id": "46a86df3-02d5-4338-91c8-948e65be2c12",
   "metadata": {},
   "source": [
    "**categorical - categorical**"
   ]
  },
  {
   "cell_type": "markdown",
   "id": "84418383-5acf-4596-ad21-4f34dc4c8bc2",
   "metadata": {},
   "source": [
    "- lets consider two column\n",
    "   - continent\n",
    "   - case status"
   ]
  },
  {
   "cell_type": "code",
   "execution_count": 23,
   "id": "0dffb900-2bd6-402e-b16b-122d2a229f84",
   "metadata": {},
   "outputs": [
    {
     "data": {
      "text/plain": [
       "continent\n",
       "Asia             16861\n",
       "Europe            3732\n",
       "North America     3292\n",
       "South America      852\n",
       "Africa             551\n",
       "Oceania            192\n",
       "Name: count, dtype: int64"
      ]
     },
     "execution_count": 23,
     "metadata": {},
     "output_type": "execute_result"
    }
   ],
   "source": [
    "visa_df['continent'].value_counts()"
   ]
  },
  {
   "cell_type": "code",
   "execution_count": 24,
   "id": "05c9867a-30bd-443f-9e7b-f8378f10b64c",
   "metadata": {},
   "outputs": [
    {
     "data": {
      "text/plain": [
       "case_status\n",
       "Certified    17018\n",
       "Denied        8462\n",
       "Name: count, dtype: int64"
      ]
     },
     "execution_count": 24,
     "metadata": {},
     "output_type": "execute_result"
    }
   ],
   "source": [
    "visa_df['case_status'].value_counts()"
   ]
  },
  {
   "cell_type": "markdown",
   "id": "ad3e2058-efa8-4d4a-a2f7-28ca0c3c5a8d",
   "metadata": {},
   "source": [
    "**task**"
   ]
  },
  {
   "cell_type": "markdown",
   "id": "fd3ca438-9671-40b5-9b1d-420c04b0b146",
   "metadata": {},
   "source": [
    "- find the certified observations continent wise\n",
    "- find the denied observation continent wise"
   ]
  },
  {
   "cell_type": "code",
   "execution_count": 25,
   "id": "d7fc5efd-5b9c-4176-b58f-a6df6275edaa",
   "metadata": {},
   "outputs": [
    {
     "data": {
      "text/plain": [
       "11012"
      ]
     },
     "execution_count": 25,
     "metadata": {},
     "output_type": "execute_result"
    }
   ],
   "source": [
    "# Step-1: Make the first condition Continet=='Asia'\n",
    "# Step-2: Make the second condition case_status=='Certified'\n",
    "# Step-3: Make the Third condition: con1&con2\n",
    "# Step-4: Then retrive the dataframe and take the count\n",
    "con1=visa_df['continent']=='Asia'\n",
    "con2=visa_df['case_status']=='Certified'\n",
    "con3=con1&con2\n",
    "len(visa_df[con3])"
   ]
  },
  {
   "cell_type": "code",
   "execution_count": 26,
   "id": "52d3eb56-ae46-4539-8eb7-45ec961b71c1",
   "metadata": {},
   "outputs": [
    {
     "data": {
      "text/plain": [
       "Index(['Asia', 'Europe', 'North America', 'South America', 'Africa',\n",
       "       'Oceania'],\n",
       "      dtype='object', name='continent')"
      ]
     },
     "execution_count": 26,
     "metadata": {},
     "output_type": "execute_result"
    }
   ],
   "source": [
    "visa_df['continent'].unique()\n",
    "visa_df['continent'].value_counts().keys()  #  what ever you use in for lop"
   ]
  },
  {
   "cell_type": "code",
   "execution_count": 27,
   "id": "9026c194-9624-4130-9299-c62ea9399840",
   "metadata": {},
   "outputs": [
    {
     "data": {
      "text/plain": [
       "[11012, 397, 2037, 2957, 493, 122]"
      ]
     },
     "execution_count": 27,
     "metadata": {},
     "output_type": "execute_result"
    }
   ],
   "source": [
    "count1=[]\n",
    "for i in visa_df['continent'].unique():\n",
    "    \n",
    "    con1=visa_df['continent']==i\n",
    "    con2=visa_df['case_status']=='Certified'\n",
    "    con3=con1&con2\n",
    "    count1.append(len(visa_df[con3]))\n",
    "count1"
   ]
  },
  {
   "cell_type": "code",
   "execution_count": 28,
   "id": "c17c0a42-1dbf-4728-800d-ef5e1cf71605",
   "metadata": {},
   "outputs": [
    {
     "data": {
      "text/plain": [
       "[5849, 154, 1255, 775, 359, 70]"
      ]
     },
     "execution_count": 28,
     "metadata": {},
     "output_type": "execute_result"
    }
   ],
   "source": [
    "count2=[]\n",
    "for i in visa_df['continent'].unique():\n",
    "    \n",
    "    con1=visa_df['continent']==i\n",
    "    con2=visa_df['case_status']=='Denied'\n",
    "    con3=con1&con2\n",
    "    count2.append(len(visa_df[con3]))\n",
    "count2"
   ]
  },
  {
   "cell_type": "code",
   "execution_count": 29,
   "id": "a288c2e4-98ed-42ea-bf20-040cb3ae16d3",
   "metadata": {},
   "outputs": [
    {
     "data": {
      "text/html": [
       "<div>\n",
       "<style scoped>\n",
       "    .dataframe tbody tr th:only-of-type {\n",
       "        vertical-align: middle;\n",
       "    }\n",
       "\n",
       "    .dataframe tbody tr th {\n",
       "        vertical-align: top;\n",
       "    }\n",
       "\n",
       "    .dataframe thead th {\n",
       "        text-align: right;\n",
       "    }\n",
       "</style>\n",
       "<table border=\"1\" class=\"dataframe\">\n",
       "  <thead>\n",
       "    <tr style=\"text-align: right;\">\n",
       "      <th></th>\n",
       "      <th>Certified</th>\n",
       "      <th>Denied</th>\n",
       "    </tr>\n",
       "  </thead>\n",
       "  <tbody>\n",
       "    <tr>\n",
       "      <th>Asia</th>\n",
       "      <td>11012</td>\n",
       "      <td>5849</td>\n",
       "    </tr>\n",
       "    <tr>\n",
       "      <th>Africa</th>\n",
       "      <td>397</td>\n",
       "      <td>154</td>\n",
       "    </tr>\n",
       "    <tr>\n",
       "      <th>North America</th>\n",
       "      <td>2037</td>\n",
       "      <td>1255</td>\n",
       "    </tr>\n",
       "    <tr>\n",
       "      <th>Europe</th>\n",
       "      <td>2957</td>\n",
       "      <td>775</td>\n",
       "    </tr>\n",
       "    <tr>\n",
       "      <th>South America</th>\n",
       "      <td>493</td>\n",
       "      <td>359</td>\n",
       "    </tr>\n",
       "    <tr>\n",
       "      <th>Oceania</th>\n",
       "      <td>122</td>\n",
       "      <td>70</td>\n",
       "    </tr>\n",
       "  </tbody>\n",
       "</table>\n",
       "</div>"
      ],
      "text/plain": [
       "               Certified  Denied\n",
       "Asia               11012    5849\n",
       "Africa               397     154\n",
       "North America       2037    1255\n",
       "Europe              2957     775\n",
       "South America        493     359\n",
       "Oceania              122      70"
      ]
     },
     "execution_count": 29,
     "metadata": {},
     "output_type": "execute_result"
    }
   ],
   "source": [
    "col=['Certified','Denied']\n",
    "df1=pd.DataFrame(zip(count1,count2),index=visa_df['continent'].unique(),columns=col)\n",
    "df1"
   ]
  },
  {
   "cell_type": "code",
   "execution_count": 30,
   "id": "e2461d13-08d0-4022-aae1-62a2281eef7f",
   "metadata": {},
   "outputs": [
    {
     "data": {
      "text/plain": [
       "continent\n",
       "Asia             11012\n",
       "Europe            2957\n",
       "North America     2037\n",
       "South America      493\n",
       "Africa             397\n",
       "Oceania            122\n",
       "Name: count, dtype: int64"
      ]
     },
     "execution_count": 30,
     "metadata": {},
     "output_type": "execute_result"
    }
   ],
   "source": [
    "visa_df['continent'][visa_df['case_status']=='Certified'].value_counts()"
   ]
  },
  {
   "cell_type": "markdown",
   "id": "459f407d-2b6e-441f-8b55-e2bb01b69694",
   "metadata": {},
   "source": [
    "**Cross tab**\r\n",
    "\r\n",
    "- The above data frame we can make by using a method: **cross tab**\r\n",
    "\r\n",
    "- It is available in pandas \r\n",
    "\r\n",
    "- It takes two argumenst\r\n",
    "\r\n",
    "    - index \r\n",
    "\r\n",
    "    - column\r\n",
    "\r\n",
    "- In above data frame index column is : **continent**\r\n",
    "\r\n",
    "- In above data frame Data column is : **case_status** "
   ]
  },
  {
   "cell_type": "code",
   "execution_count": 31,
   "id": "cf9c7584-749a-41b4-bbf5-cde112755122",
   "metadata": {},
   "outputs": [
    {
     "data": {
      "text/html": [
       "<div>\n",
       "<style scoped>\n",
       "    .dataframe tbody tr th:only-of-type {\n",
       "        vertical-align: middle;\n",
       "    }\n",
       "\n",
       "    .dataframe tbody tr th {\n",
       "        vertical-align: top;\n",
       "    }\n",
       "\n",
       "    .dataframe thead th {\n",
       "        text-align: right;\n",
       "    }\n",
       "</style>\n",
       "<table border=\"1\" class=\"dataframe\">\n",
       "  <thead>\n",
       "    <tr style=\"text-align: right;\">\n",
       "      <th>case_status</th>\n",
       "      <th>Certified</th>\n",
       "      <th>Denied</th>\n",
       "    </tr>\n",
       "    <tr>\n",
       "      <th>continent</th>\n",
       "      <th></th>\n",
       "      <th></th>\n",
       "    </tr>\n",
       "  </thead>\n",
       "  <tbody>\n",
       "    <tr>\n",
       "      <th>Africa</th>\n",
       "      <td>397</td>\n",
       "      <td>154</td>\n",
       "    </tr>\n",
       "    <tr>\n",
       "      <th>Asia</th>\n",
       "      <td>11012</td>\n",
       "      <td>5849</td>\n",
       "    </tr>\n",
       "    <tr>\n",
       "      <th>Europe</th>\n",
       "      <td>2957</td>\n",
       "      <td>775</td>\n",
       "    </tr>\n",
       "    <tr>\n",
       "      <th>North America</th>\n",
       "      <td>2037</td>\n",
       "      <td>1255</td>\n",
       "    </tr>\n",
       "    <tr>\n",
       "      <th>Oceania</th>\n",
       "      <td>122</td>\n",
       "      <td>70</td>\n",
       "    </tr>\n",
       "    <tr>\n",
       "      <th>South America</th>\n",
       "      <td>493</td>\n",
       "      <td>359</td>\n",
       "    </tr>\n",
       "  </tbody>\n",
       "</table>\n",
       "</div>"
      ],
      "text/plain": [
       "case_status    Certified  Denied\n",
       "continent                       \n",
       "Africa               397     154\n",
       "Asia               11012    5849\n",
       "Europe              2957     775\n",
       "North America       2037    1255\n",
       "Oceania              122      70\n",
       "South America        493     359"
      ]
     },
     "execution_count": 31,
     "metadata": {},
     "output_type": "execute_result"
    }
   ],
   "source": [
    "df4=pd.crosstab(visa_df['continent'],visa_df['case_status'])\n",
    "df4"
   ]
  },
  {
   "cell_type": "code",
   "execution_count": 32,
   "id": "4da18800-9dcb-4350-a63b-f8406c4c752c",
   "metadata": {},
   "outputs": [
    {
     "data": {
      "text/plain": [
       "<Axes: xlabel='continent'>"
      ]
     },
     "execution_count": 32,
     "metadata": {},
     "output_type": "execute_result"
    },
    {
     "data": {
      "image/png": "[encoded data removed]",
      "text/plain": [
       "<Figure size 640x480 with 1 Axes>"
      ]
     },
     "metadata": {},
     "output_type": "display_data"
    }
   ],
   "source": [
    "df4.plot(kind='bar')"
   ]
  },
  {
   "cell_type": "markdown",
   "id": "ee45c5cf-7e13-4799-966f-cce7f0e75c29",
   "metadata": {},
   "source": [
    "**Multivariate analysis**\n",
    "\n",
    "- Education\n",
    "\n",
    "- continent\n",
    "\n",
    "- Case status\n",
    "\n",
    "- we already know from Asia there 11k Accepted visa\n",
    "\n",
    "- In that I want furthur break down based on education\n",
    "\n",
    "- here also pd.cross tab\n",
    "\n",
    "    - first fix your index of any one column out of three column\n",
    "\n",
    "    - Then keep two column in a list and pass as data column"
   ]
  },
  {
   "cell_type": "code",
   "execution_count": 33,
   "id": "99a5fe6b-65bb-47d0-935d-dbbeecc51578",
   "metadata": {},
   "outputs": [
    {
     "data": {
      "text/html": [
       "<div>\n",
       "<style scoped>\n",
       "    .dataframe tbody tr th:only-of-type {\n",
       "        vertical-align: middle;\n",
       "    }\n",
       "\n",
       "    .dataframe tbody tr th {\n",
       "        vertical-align: top;\n",
       "    }\n",
       "\n",
       "    .dataframe thead tr th {\n",
       "        text-align: left;\n",
       "    }\n",
       "\n",
       "    .dataframe thead tr:last-of-type th {\n",
       "        text-align: right;\n",
       "    }\n",
       "</style>\n",
       "<table border=\"1\" class=\"dataframe\">\n",
       "  <thead>\n",
       "    <tr>\n",
       "      <th>case_status</th>\n",
       "      <th colspan=\"4\" halign=\"left\">Certified</th>\n",
       "      <th colspan=\"4\" halign=\"left\">Denied</th>\n",
       "    </tr>\n",
       "    <tr>\n",
       "      <th>education_of_employee</th>\n",
       "      <th>Bachelor's</th>\n",
       "      <th>Doctorate</th>\n",
       "      <th>High School</th>\n",
       "      <th>Master's</th>\n",
       "      <th>Bachelor's</th>\n",
       "      <th>Doctorate</th>\n",
       "      <th>High School</th>\n",
       "      <th>Master's</th>\n",
       "    </tr>\n",
       "    <tr>\n",
       "      <th>continent</th>\n",
       "      <th></th>\n",
       "      <th></th>\n",
       "      <th></th>\n",
       "      <th></th>\n",
       "      <th></th>\n",
       "      <th></th>\n",
       "      <th></th>\n",
       "      <th></th>\n",
       "    </tr>\n",
       "  </thead>\n",
       "  <tbody>\n",
       "    <tr>\n",
       "      <th>Africa</th>\n",
       "      <td>81</td>\n",
       "      <td>43</td>\n",
       "      <td>23</td>\n",
       "      <td>250</td>\n",
       "      <td>62</td>\n",
       "      <td>11</td>\n",
       "      <td>43</td>\n",
       "      <td>38</td>\n",
       "    </tr>\n",
       "    <tr>\n",
       "      <th>Asia</th>\n",
       "      <td>4407</td>\n",
       "      <td>780</td>\n",
       "      <td>676</td>\n",
       "      <td>5149</td>\n",
       "      <td>2761</td>\n",
       "      <td>143</td>\n",
       "      <td>1614</td>\n",
       "      <td>1331</td>\n",
       "    </tr>\n",
       "    <tr>\n",
       "      <th>Europe</th>\n",
       "      <td>1040</td>\n",
       "      <td>788</td>\n",
       "      <td>162</td>\n",
       "      <td>967</td>\n",
       "      <td>259</td>\n",
       "      <td>58</td>\n",
       "      <td>328</td>\n",
       "      <td>130</td>\n",
       "    </tr>\n",
       "    <tr>\n",
       "      <th>North America</th>\n",
       "      <td>641</td>\n",
       "      <td>207</td>\n",
       "      <td>210</td>\n",
       "      <td>979</td>\n",
       "      <td>584</td>\n",
       "      <td>51</td>\n",
       "      <td>191</td>\n",
       "      <td>429</td>\n",
       "    </tr>\n",
       "    <tr>\n",
       "      <th>Oceania</th>\n",
       "      <td>38</td>\n",
       "      <td>19</td>\n",
       "      <td>19</td>\n",
       "      <td>46</td>\n",
       "      <td>28</td>\n",
       "      <td>3</td>\n",
       "      <td>17</td>\n",
       "      <td>22</td>\n",
       "    </tr>\n",
       "    <tr>\n",
       "      <th>South America</th>\n",
       "      <td>160</td>\n",
       "      <td>75</td>\n",
       "      <td>74</td>\n",
       "      <td>184</td>\n",
       "      <td>173</td>\n",
       "      <td>14</td>\n",
       "      <td>63</td>\n",
       "      <td>109</td>\n",
       "    </tr>\n",
       "  </tbody>\n",
       "</table>\n",
       "</div>"
      ],
      "text/plain": [
       "case_status            Certified                                    Denied  \\\n",
       "education_of_employee Bachelor's Doctorate High School Master's Bachelor's   \n",
       "continent                                                                    \n",
       "Africa                        81        43          23      250         62   \n",
       "Asia                        4407       780         676     5149       2761   \n",
       "Europe                      1040       788         162      967        259   \n",
       "North America                641       207         210      979        584   \n",
       "Oceania                       38        19          19       46         28   \n",
       "South America                160        75          74      184        173   \n",
       "\n",
       "case_status                                           \n",
       "education_of_employee Doctorate High School Master's  \n",
       "continent                                             \n",
       "Africa                       11          43       38  \n",
       "Asia                        143        1614     1331  \n",
       "Europe                       58         328      130  \n",
       "North America                51         191      429  \n",
       "Oceania                       3          17       22  \n",
       "South America                14          63      109  "
      ]
     },
     "execution_count": 33,
     "metadata": {},
     "output_type": "execute_result"
    }
   ],
   "source": [
    "data_column=[visa_df['case_status'],visa_df['education_of_employee']]\n",
    "df5=pd.crosstab(visa_df['continent'],data_column)\n",
    "df5"
   ]
  },
  {
   "cell_type": "code",
   "execution_count": 34,
   "id": "1490a267-16d3-4ba8-afab-0906d323e6f1",
   "metadata": {},
   "outputs": [
    {
     "data": {
      "text/plain": [
       "<Axes: xlabel='continent'>"
      ]
     },
     "execution_count": 34,
     "metadata": {},
     "output_type": "execute_result"
    },
    {
     "data": {
      "image/png": "[encoded data removed]",
      "text/plain": [
       "<Figure size 640x480 with 1 Axes>"
      ]
     },
     "metadata": {},
     "output_type": "display_data"
    }
   ],
   "source": [
    "df5.plot(kind='bar')"
   ]
  },
  {
   "cell_type": "code",
   "execution_count": 35,
   "id": "ae433c4c-a5f4-4a5c-b6ff-5a14742dde17",
   "metadata": {},
   "outputs": [],
   "source": [
    "cat_column=visa_df.select_dtypes(include='object').columns\n",
    "num_column=visa_df.select_dtypes(exclude='object').columns"
   ]
  },
  {
   "cell_type": "code",
   "execution_count": 36,
   "id": "ee9b3b1f-39d7-47fd-b73e-d5db5b8d56e5",
   "metadata": {},
   "outputs": [
    {
     "data": {
      "text/plain": [
       "Index(['no_of_employees', 'yr_of_estab', 'prevailing_wage',\n",
       "       'prevailing_wage_update'],\n",
       "      dtype='object')"
      ]
     },
     "execution_count": 36,
     "metadata": {},
     "output_type": "execute_result"
    }
   ],
   "source": [
    "num_column"
   ]
  },
  {
   "cell_type": "markdown",
   "id": "edc96785-bb84-488b-a3d7-587cefcb29f6",
   "metadata": {},
   "source": [
    "**Numerical vs Numerical**"
   ]
  },
  {
   "cell_type": "markdown",
   "id": "8c96f71e-7176-4a22-bf1c-69713f6c0ca9",
   "metadata": {},
   "source": [
    "- to understand numrical columns relation we need to plot scatter plots\n",
    "- scatter plot gives the relation between two numericalcolumn\n",
    "- bar chart- piechart- histogram- scatter plots\n",
    "- scatter plot under matplotlib package\n",
    "- **plt.scatter**"
   ]
  },
  {
   "cell_type": "code",
   "execution_count": 37,
   "id": "d6bc5f29-4283-4252-ba38-baf877a7c7b1",
   "metadata": {},
   "outputs": [
    {
     "data": {
      "text/plain": [
       "[<matplotlib.lines.Line2D at 0x26404580a50>]"
      ]
     },
     "execution_count": 37,
     "metadata": {},
     "output_type": "execute_result"
    },
    {
     "data": {
      "image/png": "[encoded data removed]",
      "text/plain": [
       "<Figure size 640x480 with 1 Axes>"
      ]
     },
     "metadata": {},
     "output_type": "display_data"
    }
   ],
   "source": [
    "x=[1,2,3,4,5]\n",
    "y=[1,2,3,4,5]\n",
    "plt.scatter(x,y)\n",
    "plt.plot(x,y)"
   ]
  },
  {
   "cell_type": "code",
   "execution_count": 38,
   "id": "c6997b64-71be-4341-9c34-32eda88ab97c",
   "metadata": {},
   "outputs": [
    {
     "data": {
      "image/png": "[encoded data removed]",
      "text/plain": [
       "<Figure size 640x480 with 1 Axes>"
      ]
     },
     "metadata": {},
     "output_type": "display_data"
    }
   ],
   "source": [
    "x=[i for i in range(-10,11)]\n",
    "y=[i*i for i in x]\n",
    "plt.scatter(x,y)\n",
    "plt.plot(x,y)\n",
    "plt.show()"
   ]
  },
  {
   "cell_type": "code",
   "execution_count": 39,
   "id": "f8b851d8-529e-4ed3-82c8-4313a7d28786",
   "metadata": {},
   "outputs": [
    {
     "data": {
      "text/html": [
       "<div>\n",
       "<style scoped>\n",
       "    .dataframe tbody tr th:only-of-type {\n",
       "        vertical-align: middle;\n",
       "    }\n",
       "\n",
       "    .dataframe tbody tr th {\n",
       "        vertical-align: top;\n",
       "    }\n",
       "\n",
       "    .dataframe thead th {\n",
       "        text-align: right;\n",
       "    }\n",
       "</style>\n",
       "<table border=\"1\" class=\"dataframe\">\n",
       "  <thead>\n",
       "    <tr style=\"text-align: right;\">\n",
       "      <th></th>\n",
       "      <th>0</th>\n",
       "      <th>1</th>\n",
       "    </tr>\n",
       "  </thead>\n",
       "  <tbody>\n",
       "    <tr>\n",
       "      <th>0</th>\n",
       "      <td>-10</td>\n",
       "      <td>100</td>\n",
       "    </tr>\n",
       "    <tr>\n",
       "      <th>1</th>\n",
       "      <td>-9</td>\n",
       "      <td>81</td>\n",
       "    </tr>\n",
       "    <tr>\n",
       "      <th>2</th>\n",
       "      <td>-8</td>\n",
       "      <td>64</td>\n",
       "    </tr>\n",
       "    <tr>\n",
       "      <th>3</th>\n",
       "      <td>-7</td>\n",
       "      <td>49</td>\n",
       "    </tr>\n",
       "    <tr>\n",
       "      <th>4</th>\n",
       "      <td>-6</td>\n",
       "      <td>36</td>\n",
       "    </tr>\n",
       "    <tr>\n",
       "      <th>5</th>\n",
       "      <td>-5</td>\n",
       "      <td>25</td>\n",
       "    </tr>\n",
       "    <tr>\n",
       "      <th>6</th>\n",
       "      <td>-4</td>\n",
       "      <td>16</td>\n",
       "    </tr>\n",
       "    <tr>\n",
       "      <th>7</th>\n",
       "      <td>-3</td>\n",
       "      <td>9</td>\n",
       "    </tr>\n",
       "    <tr>\n",
       "      <th>8</th>\n",
       "      <td>-2</td>\n",
       "      <td>4</td>\n",
       "    </tr>\n",
       "    <tr>\n",
       "      <th>9</th>\n",
       "      <td>-1</td>\n",
       "      <td>1</td>\n",
       "    </tr>\n",
       "    <tr>\n",
       "      <th>10</th>\n",
       "      <td>0</td>\n",
       "      <td>0</td>\n",
       "    </tr>\n",
       "    <tr>\n",
       "      <th>11</th>\n",
       "      <td>1</td>\n",
       "      <td>1</td>\n",
       "    </tr>\n",
       "    <tr>\n",
       "      <th>12</th>\n",
       "      <td>2</td>\n",
       "      <td>4</td>\n",
       "    </tr>\n",
       "    <tr>\n",
       "      <th>13</th>\n",
       "      <td>3</td>\n",
       "      <td>9</td>\n",
       "    </tr>\n",
       "    <tr>\n",
       "      <th>14</th>\n",
       "      <td>4</td>\n",
       "      <td>16</td>\n",
       "    </tr>\n",
       "    <tr>\n",
       "      <th>15</th>\n",
       "      <td>5</td>\n",
       "      <td>25</td>\n",
       "    </tr>\n",
       "    <tr>\n",
       "      <th>16</th>\n",
       "      <td>6</td>\n",
       "      <td>36</td>\n",
       "    </tr>\n",
       "    <tr>\n",
       "      <th>17</th>\n",
       "      <td>7</td>\n",
       "      <td>49</td>\n",
       "    </tr>\n",
       "    <tr>\n",
       "      <th>18</th>\n",
       "      <td>8</td>\n",
       "      <td>64</td>\n",
       "    </tr>\n",
       "    <tr>\n",
       "      <th>19</th>\n",
       "      <td>9</td>\n",
       "      <td>81</td>\n",
       "    </tr>\n",
       "    <tr>\n",
       "      <th>20</th>\n",
       "      <td>10</td>\n",
       "      <td>100</td>\n",
       "    </tr>\n",
       "  </tbody>\n",
       "</table>\n",
       "</div>"
      ],
      "text/plain": [
       "     0    1\n",
       "0  -10  100\n",
       "1   -9   81\n",
       "2   -8   64\n",
       "3   -7   49\n",
       "4   -6   36\n",
       "5   -5   25\n",
       "6   -4   16\n",
       "7   -3    9\n",
       "8   -2    4\n",
       "9   -1    1\n",
       "10   0    0\n",
       "11   1    1\n",
       "12   2    4\n",
       "13   3    9\n",
       "14   4   16\n",
       "15   5   25\n",
       "16   6   36\n",
       "17   7   49\n",
       "18   8   64\n",
       "19   9   81\n",
       "20  10  100"
      ]
     },
     "execution_count": 39,
     "metadata": {},
     "output_type": "execute_result"
    }
   ],
   "source": [
    "pd.DataFrame(zip(x,y))"
   ]
  },
  {
   "cell_type": "code",
   "execution_count": 43,
   "id": "897ec3a3-8aa8-43ec-8066-524bb7b1b4aa",
   "metadata": {},
   "outputs": [],
   "source": [
    "# step-1: read one numerical column\n",
    "# step-2: read another numerical column\n",
    "# apply the scatter plot"
   ]
  },
  {
   "cell_type": "code",
   "execution_count": 44,
   "id": "e14508c5-b8c4-4915-9bbe-7fb345499d79",
   "metadata": {},
   "outputs": [
    {
     "data": {
      "text/plain": [
       "Text(0, 0.5, 'prevailing_wage')"
      ]
     },
     "execution_count": 44,
     "metadata": {},
     "output_type": "execute_result"
    },
    {
     "data": {
      "image/png": "[encoded data removed]",
      "text/plain": [
       "<Figure size 1400x300 with 3 Axes>"
      ]
     },
     "metadata": {},
     "output_type": "display_data"
    }
   ],
   "source": [
    "col1=visa_df['no_of_employees']\n",
    "col2=visa_df['yr_of_estab']\n",
    "col3=visa_df['prevailing_wage']\n",
    "plt.figure(figsize=(14,3))\n",
    "plt.subplot(1,3,1).scatter(col1,col2)\n",
    "plt.xlabel('no_of_employees')\n",
    "plt.ylabel('yr_of_estab')\n",
    "########################################\n",
    "plt.subplot(1,3,2).scatter(col1,col3)\n",
    "plt.xlabel('no_of_employees')\n",
    "plt.ylabel('prevailing_wage')\n",
    "######################################\n",
    "plt.subplot(1,3,3).scatter(col2,col3)\n",
    "plt.xlabel('no_of_employees')\n",
    "plt.ylabel('prevailing_wage')"
   ]
  },
  {
   "cell_type": "code",
   "execution_count": 45,
   "id": "255458e4-f805-4a00-85ea-7689ffe44af8",
   "metadata": {},
   "outputs": [],
   "source": [
    "# Mean deviation\n",
    "# Absolute mean deviation\n",
    "# Variance\n",
    "# Covarianec\n",
    "# Correlation coeffiecient"
   ]
  },
  {
   "cell_type": "markdown",
   "id": "6fcf5755-9f76-4403-b006-aef989e0c34d",
   "metadata": {},
   "source": [
    "- Implement the Covariance function\n",
    "\n",
    "- Covariance vs Correlation\n",
    "\n",
    "    - Covariance will tell about the columns have relation or not\n",
    "\n",
    "    - Covariance will explain about relation status \n",
    "\n",
    "        - postive relation\n",
    "\n",
    "        - neagtive relation\n",
    "\n",
    "        - no relation\n",
    "\n",
    "    - Correlation tells about how much relation between two variables\n",
    "\n",
    "    - It denotes with 'r'\n",
    "\n",
    "    - r varies from -1 to 1\n",
    "\n",
    "    - -1 to 0 indicates negative relation quantity\n",
    "\n",
    "    - 0 to 1 indicates postive relation quantity\n",
    "\n",
    "    - 0 indicates no relation\n",
    "\n",
    "\n",
    "<img class=\"XqHOTb IGEbUc\" alt=\"r =\\frac{\\sum\\left(x_{i}-\\bar{x}\\right)\\left(y_{i}-\\bar{y}\\right)}{\\sqrt{\\sum\\left(x_{i}-\\bar{x}\\right)^{2} \\sum\\left(y_{i}-\\bar{y}\\right)^{2}}}\" src=\"https://www.gstatic.com/education/formulas2/553212783/en/correlation_coefficient_formula.svg\" role=\"img\" data-csiid=\"ZDK8ZqXdMeWN4-EPu63cgQI_13\" data-atf=\"0\">"
   ]
  },
  {
   "cell_type": "markdown",
   "id": "76bb349c-6994-449a-8f01-027befa77bc5",
   "metadata": {},
   "source": [
    "**method name : corr**"
   ]
  },
  {
   "cell_type": "code",
   "execution_count": 47,
   "id": "1915a915-9089-4548-8037-259e274e9279",
   "metadata": {},
   "outputs": [
    {
     "data": {
      "text/html": [
       "<div>\n",
       "<style scoped>\n",
       "    .dataframe tbody tr th:only-of-type {\n",
       "        vertical-align: middle;\n",
       "    }\n",
       "\n",
       "    .dataframe tbody tr th {\n",
       "        vertical-align: top;\n",
       "    }\n",
       "\n",
       "    .dataframe thead th {\n",
       "        text-align: right;\n",
       "    }\n",
       "</style>\n",
       "<table border=\"1\" class=\"dataframe\">\n",
       "  <thead>\n",
       "    <tr style=\"text-align: right;\">\n",
       "      <th></th>\n",
       "      <th>no_of_employees</th>\n",
       "      <th>yr_of_estab</th>\n",
       "      <th>prevailing_wage</th>\n",
       "      <th>prevailing_wage_update</th>\n",
       "    </tr>\n",
       "  </thead>\n",
       "  <tbody>\n",
       "    <tr>\n",
       "      <th>no_of_employees</th>\n",
       "      <td>1.000000</td>\n",
       "      <td>-0.017770</td>\n",
       "      <td>-0.009523</td>\n",
       "      <td>-0.006762</td>\n",
       "    </tr>\n",
       "    <tr>\n",
       "      <th>yr_of_estab</th>\n",
       "      <td>-0.017770</td>\n",
       "      <td>1.000000</td>\n",
       "      <td>0.012342</td>\n",
       "      <td>0.015885</td>\n",
       "    </tr>\n",
       "    <tr>\n",
       "      <th>prevailing_wage</th>\n",
       "      <td>-0.009523</td>\n",
       "      <td>0.012342</td>\n",
       "      <td>1.000000</td>\n",
       "      <td>0.900557</td>\n",
       "    </tr>\n",
       "    <tr>\n",
       "      <th>prevailing_wage_update</th>\n",
       "      <td>-0.006762</td>\n",
       "      <td>0.015885</td>\n",
       "      <td>0.900557</td>\n",
       "      <td>1.000000</td>\n",
       "    </tr>\n",
       "  </tbody>\n",
       "</table>\n",
       "</div>"
      ],
      "text/plain": [
       "                        no_of_employees  yr_of_estab  prevailing_wage  \\\n",
       "no_of_employees                1.000000    -0.017770        -0.009523   \n",
       "yr_of_estab                   -0.017770     1.000000         0.012342   \n",
       "prevailing_wage               -0.009523     0.012342         1.000000   \n",
       "prevailing_wage_update        -0.006762     0.015885         0.900557   \n",
       "\n",
       "                        prevailing_wage_update  \n",
       "no_of_employees                      -0.006762  \n",
       "yr_of_estab                           0.015885  \n",
       "prevailing_wage                       0.900557  \n",
       "prevailing_wage_update                1.000000  "
      ]
     },
     "execution_count": 47,
     "metadata": {},
     "output_type": "execute_result"
    }
   ],
   "source": [
    "visa_df.corr(numeric_only=True)"
   ]
  },
  {
   "cell_type": "markdown",
   "id": "251dad21-7df8-430d-80ce-bc41ba306f47",
   "metadata": {},
   "source": [
    "**Heat_Map**\n",
    "- one of the important visualization method to show the materx from of value\n",
    "- it is under seaborn packge\n",
    "- in everey matrix we have highest value and lowest value will be there\n",
    "- Hit map will give colour visualization\n",
    "- also it prvides colour bar "
   ]
  },
  {
   "cell_type": "code",
   "execution_count": 8,
   "id": "9731dd65-c046-4425-8376-a6db8040c45f",
   "metadata": {},
   "outputs": [
    {
     "data": {
      "image/png": "[encoded data removed]",
      "text/plain": [
       "<Figure size 640x480 with 2 Axes>"
      ]
     },
     "metadata": {},
     "output_type": "display_data"
    }
   ],
   "source": [
    "corr_data=visa_df.corr(numeric_only=True)\n",
    "sns.heatmap(corr_data,annot=True)\n",
    "plt.show()"
   ]
  },
  {
   "cell_type": "code",
   "execution_count": 9,
   "id": "eb381a17-cf6d-483a-9268-f5370443e190",
   "metadata": {},
   "outputs": [
    {
     "data": {
      "image/png": "[encoded data removed]",
      "text/plain": [
       "<Figure size 640x480 with 2 Axes>"
      ]
     },
     "metadata": {},
     "output_type": "display_data"
    }
   ],
   "source": [
    "corr_data=visa_df.corr(numeric_only=True)\n",
    "sns.heatmap(corr_data,annot=True,cmap='YlOrRd')\n",
    "plt.show()"
   ]
  },
  {
   "cell_type": "code",
   "execution_count": null,
   "id": "741b81c6-4eb4-4242-a68b-4f625619af36",
   "metadata": {},
   "outputs": [],
   "source": []
  }
 ],
 "metadata": {
  "kernelspec": {
   "display_name": "Python 3 (ipykernel)",
   "language": "python",
   "name": "python3"
  },
  "language_info": {
   "codemirror_mode": {
    "name": "ipython",
    "version": 3
   },
   "file_extension": ".py",
   "mimetype": "text/x-python",
   "name": "python",
   "nbconvert_exporter": "python",
   "pygments_lexer": "ipython3",
   "version": "3.11.7"
  }
 },
 "nbformat": 4,
 "nbformat_minor": 5
}
